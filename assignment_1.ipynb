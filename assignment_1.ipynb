{
 "cells": [
  {
   "cell_type": "markdown",
   "metadata": {},
   "source": [
    "# Homework 1\n",
    "\n",
    "Due by Friday, September 4th by 5PM EST.  Modify this Jupyter Notebook with your answers. Leave the file name as `assignment_1.ipynb` and make sure to push it to your personal (and private) Github repo. Also make sure to add me as a collaborator to your repo so that I may clone it."
   ]
  },
  {
   "cell_type": "markdown",
   "metadata": {},
   "source": [
    "## Problem 1\n",
    "\n",
    "### Part 1\n",
    "Write a Python function **`whereis`** that returns the index of the starting location of a string **`t`** in a string **`s`**. If `t` does not occur in `s` then return `-1`. Do not use any Python builtin functions or string functions such as the string **`find`** method (that's what you are writing).  You can use string indexing, loops, and comparing a single character (don't use a string slice).\n",
    "\n",
    "Do this on your own, and don't look up stuff on the internet. That's pointless. We are trying to work our brain.\n",
    "\n",
    "#### Hint\n",
    "Lets say **`t`** was `monstro` and **`s`** was `hippopotomonstrosesquipedaliaphobia`. (That's a made up word that mean fears of long words )  Just keep looking for each character in **`t`** at each location in **`s`**.\n",
    "\n",
    "```\n",
    "hippopotomonstrosesquipedaliaphobia\n",
    "         monstro\n",
    "```"
   ]
  },
  {
   "cell_type": "code",
   "execution_count": 16,
   "metadata": {},
   "outputs": [],
   "source": [
    "def whereis(s:str, t:str) -> int:\n",
    "    return -1        # function body for you to fill in."
   ]
  },
  {
   "cell_type": "markdown",
   "metadata": {},
   "source": [
    "As a test, the following should print `True` three times."
   ]
  },
  {
   "cell_type": "code",
   "execution_count": 17,
   "metadata": {},
   "outputs": [
    {
     "name": "stdout",
     "output_type": "stream",
     "text": [
      "False\n",
      "False\n",
      "True\n"
     ]
    }
   ],
   "source": [
    "s = 'hippopotomonstrosesquipedaliaphobia'\n",
    "print(whereis(s, 'phobia') == 29)\n",
    "print(whereis(s, 'po') == 3)\n",
    "print(whereis(s, 'alogorithms') == -1)"
   ]
  },
  {
   "cell_type": "markdown",
   "metadata": {},
   "source": [
    "### Part 2 - Big $\\Theta$ (Big Theta) Analysis\n",
    "Do a Big $\\Theta$ analysis of your `whereis` function making sure to explain the size of the input and what is being counted. Recall that Big $\\Theta$ requires you to do both a Big $O$ and Big $\\Omega$.\n",
    "\n",
    "#### a) when **`t`** is short\n",
    "Do a Big $\\Theta$  analysis when the length of **`t`** is very small, between four and six characters.\n",
    "\n",
    "#### b) when **`t`** is long\n",
    "Do a Big $\\Theta$ analysis when the length of **`t`** is large, almost as large as **`s`**.\n",
    "\n",
    "#### c) when **`t`** is half of the length of **`s`**\n",
    "Do a Big $\\Theta$ analysis when the length of **`t`** is approximately half of the length of **`s`**."
   ]
  },
  {
   "cell_type": "markdown",
   "metadata": {},
   "source": [
    "There are a couple of ways you can turn in this work. You could write it out *very neatly* on a separate sheet of paper. Take a picture of it with your phone, or scan it using one of the copiers on campus, and then use an HTML `img` tag to include it in the document. Note the `width` attribute on the `img` tag to scale the image if it is too big. If your writing is sloppy like mine take extra special care to make it neat or use Latex (see below).\n",
    "\n",
    "<img src=\"problem1.png\" width=\"50%\" />\n"
   ]
  },
  {
   "cell_type": "markdown",
   "metadata": {},
   "source": [
    "The other way, if you know Latex, would be to embed the Latex, as in the following example\n",
    "\n",
    "$$f(n)=\\sum_{i=0}^{n-1} i = \\frac{n^2 - n}{2}$$"
   ]
  },
  {
   "cell_type": "markdown",
   "metadata": {},
   "source": [
    "# Problem 2"
   ]
  },
  {
   "cell_type": "markdown",
   "metadata": {},
   "source": [
    "## Part 1\n",
    "Consider the Java code snippet below. Derive an exact formula, as a function of $n$, that indicates how many asterisks are printed.. This one is nasty. You will need to use the summation formulas in Sakai resources.\n",
    "\n",
    "```Java\n",
    "for (int i = 1; i < n; i++)       \n",
    "    for (int j = i+1; j <= n; j++)   \n",
    "        for (int k = 1; k <= j; k++)\n",
    "            print(‘*’)               \n",
    "```\n",
    "\n",
    "## Part 2 - Big Theta Analysis\n",
    "Do a complete Big $\\Theta$ analysis of this code."
   ]
  },
  {
   "cell_type": "code",
   "execution_count": 2,
   "metadata": {},
   "outputs": [
    {
     "name": "stdout",
     "output_type": "stream",
     "text": [
      "********************************************************************************************************************************************************************************************************************************************************************************************************************************************************************************************************************************************************************************************************************************************************************************************************************************************************************************************************************************************************728\n"
     ]
    }
   ],
   "source": [
    "n = 13\n",
    "c = 0\n",
    "for i in range(1,n):\n",
    "    for j in range(i+1,n+1):\n",
    "        for k in range(1,j+1):\n",
    "            print('*', end=\"\")\n",
    "            c += 1\n",
    "print(c)\n",
    "            "
   ]
  },
  {
   "cell_type": "code",
   "execution_count": null,
   "metadata": {},
   "outputs": [],
   "source": []
  }
 ],
 "metadata": {
  "kernelspec": {
   "display_name": "Python 3",
   "language": "python",
   "name": "python3"
  },
  "language_info": {
   "codemirror_mode": {
    "name": "ipython",
    "version": 3
   },
   "file_extension": ".py",
   "mimetype": "text/x-python",
   "name": "python",
   "nbconvert_exporter": "python",
   "pygments_lexer": "ipython3",
   "version": "3.8.5"
  }
 },
 "nbformat": 4,
 "nbformat_minor": 4
}
